{
 "cells": [
  {
   "cell_type": "code",
   "execution_count": null,
   "id": "a4b061bd-79db-4e36-b042-b4cdf9fddec2",
   "metadata": {
    "tags": []
   },
   "outputs": [],
   "source": [
    "import sys\n",
    "import time\n",
    "import torch\n",
    "\n",
    "import logging\n",
    "logging.basicConfig(format='%(asctime)s - %(name)s - %(levelname)s - %(message)s', level=logging.INFO)\n",
    "logger = logging.getLogger(__name__)\n",
    "\n",
    "logger.info(\"%s\", sys.version_info)\n",
    "logger.info(\"%s\", torch.__version__)\n",
    "logger.info(\"%s\", torch.cuda.is_available())\n",
    "\n",
    "import os\n",
    "os.environ['WANDB_CONSOLE'] = \"off\"\n",
    "torch.set_num_threads(8)\n",
    "torch.set_num_interop_threads(8)\n",
    "import shutil\n",
    "import uuid\n",
    "\n",
    "import wandb\n",
    "from main import main\n",
    "from torch.utils.tensorboard import SummaryWriter"
   ]
  },
  {
   "cell_type": "code",
   "execution_count": null,
   "id": "04bbf5d1-743b-4314-b98f-224e259d0e05",
   "metadata": {
    "tags": []
   },
   "outputs": [],
   "source": [
    "import pytest\n",
    "pytest.main([\"-k\", \".\"])"
   ]
  },
  {
   "cell_type": "code",
   "execution_count": null,
   "id": "a2a66bb5-965b-42c1-b56d-0148a1f07913",
   "metadata": {
    "tags": []
   },
   "outputs": [],
   "source": [
    "def build_name(config):\n",
    "    name = []\n",
    "    dataset = config[\"dataset\"].lower()\n",
    "    if config[\"noise_frac\"] > 0.0:\n",
    "        dataset = f\"{dataset}[{config['noise_frac']}]\"\n",
    "    name.append(dataset)\n",
    "    name.append(config[\"model\"])\n",
    "    loss = (\n",
    "        config[\"loss\"].lower().replace(\"debiased\", \"\").replace(\"contrastive\", \"biased\")\n",
    "    )\n",
    "    loss_args = [f\"M={config['num_pos']}\"]\n",
    "    if config[\"drop_fn\"]:\n",
    "        loss_args.append(\"dropFN\")\n",
    "    if config[\"num_pos\"] > 1:\n",
    "        loss_args.append(config[\"m_agg_mode\"])\n",
    "    if len(loss_args) > 0:\n",
    "        loss += \"[{}]\".format(\",\".join(loss_args))\n",
    "    name.append(loss)\n",
    "    name.append(f\"bs={config['batch_size']}\")\n",
    "    if config.get(\"lr\") != 1e-3:\n",
    "        name.append(f\"lr={config['lr']}\")\n",
    "    name = \"-\".join(name)\n",
    "    return name"
   ]
  },
  {
   "cell_type": "code",
   "execution_count": null,
   "id": "cb71188d-f374-439f-85e1-3ccf9a4c6f70",
   "metadata": {
    "tags": []
   },
   "outputs": [],
   "source": [
    "arch = \"resnet50\"\n",
    "dataset = \"CIFAR10\"\n",
    "batch_size = 64\n",
    "noise_frac = 0.0\n",
    "num_pos = 1\n",
    "drop_fn = False\n",
    "m_agg_mode = \"loss_combination\"\n",
    "lr = 0.001\n",
    "loss = \"DebiasedPosV2\"\n",
    "\n",
    "run_uuid = uuid.uuid4()\n",
    "root = \"/path/to/model/data\"\n",
    "out = \"/path/to/output/folder/{}\".format(run_uuid)\n",
    "\n",
    "os.mkdir(out)\n",
    "name = build_name(\n",
    "    {\n",
    "        \"dataset\": dataset,\n",
    "        \"noise_frac\": noise_frac,\n",
    "        \"model\": arch,\n",
    "        \"loss\": loss,\n",
    "        \"num_pos\": num_pos,\n",
    "        \"drop_fn\": drop_fn,\n",
    "        \"batch_size\": batch_size,\n",
    "        \"m_agg_mode\": m_agg_mode,\n",
    "        \"lr\": lr,\n",
    "    }\n",
    ")\n",
    "wandb.init(dir=out, name=name)\n",
    "wandb.tensorboard.patch(root_logdir=out)\n",
    "writer = SummaryWriter(out)\n",
    "\n",
    "main(\n",
    "    dataset,\n",
    "    loss,\n",
    "    root,\n",
    "    batch_size,\n",
    "    arch,\n",
    "    cuda=True,\n",
    "    writer=writer,\n",
    "    epochs=200,\n",
    "    tau_plus=0.1,\n",
    "    num_pos=num_pos,\n",
    "    drop_fn=drop_fn,\n",
    "    noise_frac=noise_frac,\n",
    "    m_agg_mode=m_agg_mode,\n",
    "    run_uuid=run_uuid,\n",
    "    lr=lr,\n",
    ")\n",
    "writer.close()\n",
    "wandb.finish()\n",
    "wandb.tensorboard.unpatch()"
   ]
  },
  {
   "cell_type": "code",
   "execution_count": null,
   "id": "7237a1f9-eba2-4de9-934e-de04143465cc",
   "metadata": {},
   "outputs": [],
   "source": []
  }
 ],
 "metadata": {
  "kernelspec": {
   "display_name": "Python 3 (ipykernel)",
   "language": "python",
   "name": "python3"
  },
  "language_info": {
   "codemirror_mode": {
    "name": "ipython",
    "version": 3
   },
   "file_extension": ".py",
   "mimetype": "text/x-python",
   "name": "python",
   "nbconvert_exporter": "python",
   "pygments_lexer": "ipython3",
   "version": "3.11.2"
  }
 },
 "nbformat": 4,
 "nbformat_minor": 5
}
